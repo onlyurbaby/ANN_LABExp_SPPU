{
  "nbformat": 4,
  "nbformat_minor": 0,
  "metadata": {
    "colab": {
      "provenance": []
    },
    "kernelspec": {
      "name": "python3",
      "display_name": "Python 3"
    },
    "language_info": {
      "name": "python"
    }
  },
  "cells": [
    {
      "cell_type": "code",
      "source": [
        "import numpy as np"
      ],
      "metadata": {
        "id": "JQXnDkjPA60I"
      },
      "execution_count": 2,
      "outputs": []
    },
    {
      "cell_type": "code",
      "source": [
        "class Perceptron:\n",
        "    def __init__(self, lr=1, epochs=100):\n",
        "        self.W = None\n",
        "        self.epochs = epochs\n",
        "        self.lr = lr\n",
        "\n",
        "    def predict(self, x):\n",
        "        x_with_bias = np.insert(x, 0, 1)\n",
        "        z = self.W.dot(x_with_bias)\n",
        "        return 1 if z >= 0 else 0\n",
        "\n",
        "    def train(self, X, y):\n",
        "        self.W = np.zeros(X.shape[1] + 1)\n",
        "        for _ in range(self.epochs):\n",
        "            for i in range(len(y)):\n",
        "                x = X[i]\n",
        "                y_pred = self.predict(x)\n",
        "                error = y[i] - y_pred\n",
        "                if error != 0:\n",
        "                    x_with_bias = np.insert(x, 0, 1)\n",
        "                    self.W = self.W + self.lr * error * x_with_bias\n",
        "        return self"
      ],
      "metadata": {
        "id": "LTJzosuhBAIo"
      },
      "execution_count": 3,
      "outputs": []
    },
    {
      "cell_type": "code",
      "source": [
        "def ascii_to_binary_vector(ascii_val):\n",
        "    return np.array(list(np.binary_repr(ascii_val, width=7))).astype(int)"
      ],
      "metadata": {
        "id": "uYp1VsXEBDtF"
      },
      "execution_count": 4,
      "outputs": []
    },
    {
      "cell_type": "code",
      "source": [
        "def main():\n",
        "    digits = list(range(10))\n",
        "    X = np.array([ascii_to_binary_vector(ord(str(d))) for d in digits])\n",
        "    y = np.array([0 if d % 2 == 0 else 1 for d in digits])  # even = 0, odd = 1\n",
        "\n",
        "    perceptron = Perceptron(epochs=100)\n",
        "    perceptron.train(X, y)\n",
        "    print(\"Perceptron trained successfully!\\n\")\n",
        "\n",
        "    for i in digits:\n",
        "        ascii_val = ord(str(i))\n",
        "        x = ascii_to_binary_vector(ascii_val)\n",
        "        prediction = perceptron.predict(x)\n",
        "        print(f\"Digit: {i}, ASCII: {ascii_val}, Prediction: {'even' if prediction == 0 else 'odd'}\")\n",
        "\n",
        "if __name__ == \"__main__\":\n",
        "    main()"
      ],
      "metadata": {
        "colab": {
          "base_uri": "https://localhost:8080/"
        },
        "id": "QqavJ_rxBG19",
        "outputId": "5d8ab901-6651-49c9-f256-7b00be324723"
      },
      "execution_count": 5,
      "outputs": [
        {
          "output_type": "stream",
          "name": "stdout",
          "text": [
            "Perceptron trained successfully!\n",
            "\n",
            "Digit: 0, ASCII: 48, Prediction: even\n",
            "Digit: 1, ASCII: 49, Prediction: odd\n",
            "Digit: 2, ASCII: 50, Prediction: even\n",
            "Digit: 3, ASCII: 51, Prediction: odd\n",
            "Digit: 4, ASCII: 52, Prediction: even\n",
            "Digit: 5, ASCII: 53, Prediction: odd\n",
            "Digit: 6, ASCII: 54, Prediction: even\n",
            "Digit: 7, ASCII: 55, Prediction: odd\n",
            "Digit: 8, ASCII: 56, Prediction: even\n",
            "Digit: 9, ASCII: 57, Prediction: odd\n"
          ]
        }
      ]
    },
    {
      "cell_type": "code",
      "source": [],
      "metadata": {
        "id": "SdWXVMQBBKD_"
      },
      "execution_count": null,
      "outputs": []
    }
  ]
}