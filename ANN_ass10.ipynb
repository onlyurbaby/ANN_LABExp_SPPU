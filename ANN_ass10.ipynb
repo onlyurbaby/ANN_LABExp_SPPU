{
  "nbformat": 4,
  "nbformat_minor": 0,
  "metadata": {
    "colab": {
      "provenance": []
    },
    "kernelspec": {
      "name": "python3",
      "display_name": "Python 3"
    },
    "language_info": {
      "name": "python"
    }
  },
  "cells": [
    {
      "cell_type": "code",
      "execution_count": 1,
      "metadata": {
        "id": "7CkUryTovkwW"
      },
      "outputs": [],
      "source": [
        "import numpy as np"
      ]
    },
    {
      "cell_type": "code",
      "source": [
        "class HopfieldNetwork:\n",
        "    def __init__(self, size):\n",
        "        self.size = size\n",
        "        self.weights = np.zeros((size, size))\n",
        "\n",
        "    def train(self, patterns):\n",
        "        for p in patterns:\n",
        "            p = np.array(p)\n",
        "            p = p.reshape(self.size, 1)\n",
        "            self.weights += np.dot(p, p.T)\n",
        "        np.fill_diagonal(self.weights, 0)  # No self-connections\n",
        "        self.weights /= len(patterns)      # Normalize (optional)\n",
        "\n",
        "    def recall(self, pattern, steps=5):\n",
        "        p = np.array(pattern)\n",
        "        for _ in range(steps):\n",
        "            for i in range(self.size):\n",
        "                raw = np.dot(self.weights[i], p)\n",
        "                p[i] = 1 if raw >= 0 else -1\n",
        "        return p"
      ],
      "metadata": {
        "id": "ZFQo6VT3vnNq"
      },
      "execution_count": 2,
      "outputs": []
    },
    {
      "cell_type": "code",
      "source": [
        "# Convert binary {0, 1} to bipolar {-1, +1}\n",
        "def to_bipolar(vector):\n",
        "    return [1 if x == 1 else -1 for x in vector]\n",
        "# Example: 4 binary patterns of length 6\n",
        "stored_patterns = [\n",
        "    [1, 0, 1, 0, 1, 0],\n",
        "    [0, 1, 0, 1, 0, 1],\n",
        "    [1, 1, 0, 0, 1, 1],\n",
        "    [0, 0, 1, 1, 0, 0]\n",
        "]"
      ],
      "metadata": {
        "id": "WmG0s3ZVvrTF"
      },
      "execution_count": 3,
      "outputs": []
    },
    {
      "cell_type": "code",
      "source": [
        "# Convert to bipolar format\n",
        "bipolar_patterns = [to_bipolar(p) for p in stored_patterns]\n",
        "# Create and train Hopfield network\n",
        "hn = HopfieldNetwork(size=6)\n",
        "hn.train(bipolar_patterns)\n",
        "# Try recalling each pattern\n",
        "print(\"Recalled Patterns:\")\n",
        "for idx, pattern in enumerate(bipolar_patterns):\n",
        "    recalled = hn.recall(pattern.copy())\n",
        "    print(f\"Pattern {idx + 1}: {recalled}\")"
      ],
      "metadata": {
        "colab": {
          "base_uri": "https://localhost:8080/"
        },
        "id": "dwwsCuOzvuVJ",
        "outputId": "d0efeeb1-4cd5-4510-f730-d8c1b06e492e"
      },
      "execution_count": 4,
      "outputs": [
        {
          "output_type": "stream",
          "name": "stdout",
          "text": [
            "Recalled Patterns:\n",
            "Pattern 1: [ 1 -1  1 -1  1 -1]\n",
            "Pattern 2: [-1  1 -1  1 -1  1]\n",
            "Pattern 3: [ 1  1 -1 -1  1  1]\n",
            "Pattern 4: [-1 -1  1  1 -1 -1]\n"
          ]
        }
      ]
    },
    {
      "cell_type": "code",
      "source": [],
      "metadata": {
        "id": "rzdmp7L0vw7G"
      },
      "execution_count": null,
      "outputs": []
    }
  ]
}