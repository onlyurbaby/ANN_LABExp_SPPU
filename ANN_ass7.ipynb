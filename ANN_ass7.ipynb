{
  "nbformat": 4,
  "nbformat_minor": 0,
  "metadata": {
    "colab": {
      "provenance": []
    },
    "kernelspec": {
      "name": "python3",
      "display_name": "Python 3"
    },
    "language_info": {
      "name": "python"
    }
  },
  "cells": [
    {
      "cell_type": "code",
      "execution_count": 5,
      "metadata": {
        "id": "23fRlJQys8A4"
      },
      "outputs": [],
      "source": [
        "import numpy as np"
      ]
    },
    {
      "cell_type": "code",
      "source": [
        "class XOR:\n",
        "    def __init__(self):\n",
        "        self.w1 = np.random.rand(2, 2)\n",
        "        self.b1 = np.random.rand(2)\n",
        "        self.w2 = np.random.rand(2, 1)\n",
        "        self.b2 = np.random.rand(1)\n",
        "        self.learning_rate = 0.1\n",
        "\n",
        "    def sigmoid(self, x):\n",
        "        return 1 / (1 + np.exp(-x))\n",
        "\n",
        "    def sigmoid_derivative(self, s):\n",
        "        return s * (1 - s)\n",
        "\n",
        "    def forward_pass(self, X):\n",
        "        self.z1 = np.dot(X, self.w1) + self.b1  # (4,2)\n",
        "        self.a1 = self.sigmoid(self.z1)         # (4,2)\n",
        "        self.z2 = np.dot(self.a1, self.w2) + self.b2  # (4,1)\n",
        "        self.a2 = self.sigmoid(self.z2)         # (4,1)\n",
        "        return self.a2\n",
        "\n",
        "    def backward(self, X, y, output):\n",
        "        error = y - output                      # (4,1)\n",
        "        d_output = error * self.sigmoid_derivative(output)  # (4,1)\n",
        "\n",
        "        error_hidden = d_output.dot(self.w2.T)             # (4,2)\n",
        "        d_hidden = error_hidden * self.sigmoid_derivative(self.a1)  # (4,2)\n",
        "\n",
        "        # Update weights and biases\n",
        "        self.w2 += self.a1.T.dot(d_output) * self.learning_rate  # (2,1)\n",
        "        self.b2 += np.sum(d_output, axis=0) * self.learning_rate\n",
        "\n",
        "        self.w1 += X.T.dot(d_hidden) * self.learning_rate        # (2,2)\n",
        "        self.b1 += np.sum(d_hidden, axis=0) * self.learning_rate\n",
        "\n",
        "    def train(self, X, y, epochs=10000):\n",
        "        for _ in range(epochs):\n",
        "            output = self.forward_pass(X)\n",
        "            self.backward(X, y, output)\n",
        "\n",
        "    def predict(self, X):\n",
        "        return (self.forward_pass(X))"
      ],
      "metadata": {
        "id": "yPEGHRg_s9GP"
      },
      "execution_count": 2,
      "outputs": []
    },
    {
      "cell_type": "code",
      "source": [
        "X = np.array([[0, 0],\n",
        "              [0, 1],\n",
        "              [1, 0],\n",
        "              [1, 1]])\n",
        "\n",
        "y = np.array([[0], [1], [1], [0]])"
      ],
      "metadata": {
        "id": "GuTlG_32tR5K"
      },
      "execution_count": 3,
      "outputs": []
    },
    {
      "cell_type": "code",
      "source": [
        "model = XOR()\n",
        "model.train(X, y, epochs=10000)\n",
        "\n",
        "predictions = model.predict(X)\n",
        "print(\"Predictions:\")\n",
        "print(predictions)"
      ],
      "metadata": {
        "colab": {
          "base_uri": "https://localhost:8080/"
        },
        "id": "mk4Jh1TSthTX",
        "outputId": "21cc40d2-2d9d-4d98-8e18-21e791b3b5a9"
      },
      "execution_count": 4,
      "outputs": [
        {
          "output_type": "stream",
          "name": "stdout",
          "text": [
            "Predictions:\n",
            "[[0.05856666]\n",
            " [0.94581782]\n",
            " [0.94602909]\n",
            " [0.05844913]]\n"
          ]
        }
      ]
    },
    {
      "cell_type": "code",
      "source": [],
      "metadata": {
        "id": "FWYAbxNGtlJH"
      },
      "execution_count": null,
      "outputs": []
    }
  ]
}