{
  "nbformat": 4,
  "nbformat_minor": 0,
  "metadata": {
    "colab": {
      "provenance": []
    },
    "kernelspec": {
      "name": "python3",
      "display_name": "Python 3"
    },
    "language_info": {
      "name": "python"
    }
  },
  "cells": [
    {
      "cell_type": "code",
      "execution_count": 1,
      "metadata": {
        "id": "1jTr9m9huTCa"
      },
      "outputs": [],
      "source": [
        "import numpy as np"
      ]
    },
    {
      "cell_type": "code",
      "source": [
        "class ART1:\n",
        "    def __init__(self, num_features, num_categories, vigilance=0.8):\n",
        "        self.num_features = num_features      # Size of input vector\n",
        "        self.num_categories = num_categories  # Max number of categories\n",
        "        self.vigilance = vigilance            # Vigilance threshold\n",
        "        self.b = num_features + 1             # Choice parameter\n",
        "\n",
        "        # Initialize weights\n",
        "        self.bottom_up = np.ones((num_categories, num_features)) / (1 + num_features)\n",
        "        self.top_down = np.ones((num_categories, num_features))\n",
        "\n",
        "    def train(self, patterns):\n",
        "        for input_vector in patterns:\n",
        "            input_vector = np.array(input_vector)\n",
        "            # Calculate activations\n",
        "            activations = np.sum(np.minimum(self.bottom_up, input_vector), axis=1)\n",
        "            activations /= (self.b + np.sum(self.bottom_up, axis=1))\n",
        "\n",
        "            # Sort by highest activation\n",
        "            sorted_indices = np.argsort(-activations)\n",
        "\n",
        "            for j in sorted_indices:\n",
        "                # Predictive match (top-down expectation)\n",
        "                match = np.sum(np.minimum(input_vector, self.top_down[j])) / np.sum(input_vector)\n",
        "\n",
        "                # Check vigilance\n",
        "                if match >= self.vigilance:\n",
        "                    # Resonance — update weights\n",
        "                    self.bottom_up[j] = (input_vector * self.top_down[j]) / (0.5 + np.sum(input_vector * self.top_down[j]))\n",
        "                    self.top_down[j] = input_vector * self.top_down[j]\n",
        "                    print(f\"Pattern {input_vector.tolist()} --> Category {j}\")\n",
        "                    break\n",
        "            else:\n",
        "                print(f\"Pattern {input_vector.tolist()} --> No category found (vigilance too high)\")"
      ],
      "metadata": {
        "id": "WDBpshQ6uWU1"
      },
      "execution_count": 2,
      "outputs": []
    },
    {
      "cell_type": "code",
      "source": [
        "# Example input patterns (binary)\n",
        "patterns = [\n",
        "    [1, 0, 0, 1, 0],\n",
        "    [1, 1, 0, 1, 0],\n",
        "    [0, 0, 1, 0, 1],\n",
        "    [0, 1, 1, 0, 1],\n",
        "    [1, 0, 0, 1, 1],\n",
        "]"
      ],
      "metadata": {
        "id": "urs8ORXWuZvL"
      },
      "execution_count": 3,
      "outputs": []
    },
    {
      "cell_type": "code",
      "source": [
        "# Create ART1 network\n",
        "art = ART1(num_features=5, num_categories=5, vigilance=0.6)\n"
      ],
      "metadata": {
        "id": "Nd_XS_XVueQX"
      },
      "execution_count": 4,
      "outputs": []
    },
    {
      "cell_type": "code",
      "source": [
        "\n",
        "# Train the network\n",
        "art.train(patterns)"
      ],
      "metadata": {
        "colab": {
          "base_uri": "https://localhost:8080/"
        },
        "id": "woOIXhmRuhcS",
        "outputId": "2fe8581f-460f-4341-8cc3-66ece0e0650c"
      },
      "execution_count": 5,
      "outputs": [
        {
          "output_type": "stream",
          "name": "stdout",
          "text": [
            "Pattern [1, 0, 0, 1, 0] --> Category 0\n",
            "Pattern [1, 1, 0, 1, 0] --> Category 0\n",
            "Pattern [0, 0, 1, 0, 1] --> Category 1\n",
            "Pattern [0, 1, 1, 0, 1] --> Category 1\n",
            "Pattern [1, 0, 0, 1, 1] --> Category 0\n"
          ]
        }
      ]
    },
    {
      "cell_type": "code",
      "source": [],
      "metadata": {
        "id": "5SeqCDQLujfh"
      },
      "execution_count": null,
      "outputs": []
    }
  ]
}